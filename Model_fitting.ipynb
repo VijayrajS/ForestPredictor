{
 "cells": [
  {
   "cell_type": "code",
   "execution_count": 142,
   "metadata": {},
   "outputs": [],
   "source": [
    "import pandas as pd\n"
   ]
  },
  {
   "cell_type": "code",
   "execution_count": 143,
   "metadata": {},
   "outputs": [],
   "source": [
    "df = pd.read_csv(\"./deforest_data.csv\",encoding = \"utf-8\")\n"
   ]
  },
  {
   "cell_type": "code",
   "execution_count": 144,
   "metadata": {},
   "outputs": [],
   "source": [
    "df = pd.read_csv(\"./deforest_data_cl.csv\",encoding = \"utf-8\")\n",
    "\n",
    "df.set_index(\"Country Code\", inplace = True) \n",
    "df = df.drop(\"XKX\")"
   ]
  },
  {
   "cell_type": "code",
   "execution_count": 145,
   "metadata": {},
   "outputs": [],
   "source": [
    "df = df.drop(\"BEL\")"
   ]
  },
  {
   "cell_type": "code",
   "execution_count": 146,
   "metadata": {},
   "outputs": [],
   "source": [
    "df = df.drop(\"PLW\")"
   ]
  },
  {
   "cell_type": "code",
   "execution_count": 147,
   "metadata": {
    "scrolled": false
   },
   "outputs": [],
   "source": [
    "df = df.drop(columns=['2017', '2018' ,'Unnamed: 31'])"
   ]
  },
  {
   "cell_type": "code",
   "execution_count": 148,
   "metadata": {},
   "outputs": [],
   "source": [
    "df = df.dropna(axis=0)"
   ]
  },
  {
   "cell_type": "code",
   "execution_count": 149,
   "metadata": {},
   "outputs": [
    {
     "data": {
      "text/html": [
       "<div>\n",
       "<style scoped>\n",
       "    .dataframe tbody tr th:only-of-type {\n",
       "        vertical-align: middle;\n",
       "    }\n",
       "\n",
       "    .dataframe tbody tr th {\n",
       "        vertical-align: top;\n",
       "    }\n",
       "\n",
       "    .dataframe thead th {\n",
       "        text-align: right;\n",
       "    }\n",
       "</style>\n",
       "<table border=\"1\" class=\"dataframe\">\n",
       "  <thead>\n",
       "    <tr style=\"text-align: right;\">\n",
       "      <th></th>\n",
       "      <th>1990</th>\n",
       "      <th>1991</th>\n",
       "      <th>1992</th>\n",
       "      <th>1993</th>\n",
       "      <th>1994</th>\n",
       "      <th>1995</th>\n",
       "      <th>1996</th>\n",
       "      <th>1997</th>\n",
       "      <th>1998</th>\n",
       "      <th>1999</th>\n",
       "      <th>...</th>\n",
       "      <th>2007</th>\n",
       "      <th>2008</th>\n",
       "      <th>2009</th>\n",
       "      <th>2010</th>\n",
       "      <th>2011</th>\n",
       "      <th>2012</th>\n",
       "      <th>2013</th>\n",
       "      <th>2014</th>\n",
       "      <th>2015</th>\n",
       "      <th>2016</th>\n",
       "    </tr>\n",
       "    <tr>\n",
       "      <th>Country Code</th>\n",
       "      <th></th>\n",
       "      <th></th>\n",
       "      <th></th>\n",
       "      <th></th>\n",
       "      <th></th>\n",
       "      <th></th>\n",
       "      <th></th>\n",
       "      <th></th>\n",
       "      <th></th>\n",
       "      <th></th>\n",
       "      <th></th>\n",
       "      <th></th>\n",
       "      <th></th>\n",
       "      <th></th>\n",
       "      <th></th>\n",
       "      <th></th>\n",
       "      <th></th>\n",
       "      <th></th>\n",
       "      <th></th>\n",
       "      <th></th>\n",
       "      <th></th>\n",
       "    </tr>\n",
       "  </thead>\n",
       "  <tbody>\n",
       "    <tr>\n",
       "      <th>CHN</th>\n",
       "      <td>16.738007</td>\n",
       "      <td>16.949548</td>\n",
       "      <td>17.161087</td>\n",
       "      <td>17.372627</td>\n",
       "      <td>17.584168</td>\n",
       "      <td>17.795726</td>\n",
       "      <td>18.007286</td>\n",
       "      <td>18.218826</td>\n",
       "      <td>18.430366</td>\n",
       "      <td>18.641908</td>\n",
       "      <td>...</td>\n",
       "      <td>20.884752</td>\n",
       "      <td>21.045942</td>\n",
       "      <td>21.20713</td>\n",
       "      <td>21.368319</td>\n",
       "      <td>21.53259</td>\n",
       "      <td>21.69686</td>\n",
       "      <td>21.86113</td>\n",
       "      <td>22.025398</td>\n",
       "      <td>22.189669</td>\n",
       "      <td>22.353942</td>\n",
       "    </tr>\n",
       "  </tbody>\n",
       "</table>\n",
       "<p>1 rows × 27 columns</p>\n",
       "</div>"
      ],
      "text/plain": [
       "                   1990       1991       1992       1993       1994  \\\n",
       "Country Code                                                          \n",
       "CHN           16.738007  16.949548  17.161087  17.372627  17.584168   \n",
       "\n",
       "                   1995       1996       1997       1998       1999  ...  \\\n",
       "Country Code                                                         ...   \n",
       "CHN           17.795726  18.007286  18.218826  18.430366  18.641908  ...   \n",
       "\n",
       "                   2007       2008      2009       2010      2011      2012  \\\n",
       "Country Code                                                                  \n",
       "CHN           20.884752  21.045942  21.20713  21.368319  21.53259  21.69686   \n",
       "\n",
       "                  2013       2014       2015       2016  \n",
       "Country Code                                             \n",
       "CHN           21.86113  22.025398  22.189669  22.353942  \n",
       "\n",
       "[1 rows x 27 columns]"
      ]
     },
     "execution_count": 149,
     "metadata": {},
     "output_type": "execute_result"
    }
   ],
   "source": [
    "WLD = df.loc[['CHN']]\n",
    "WLD = WLD.drop(columns = \"Country Name\")\n",
    "WLD"
   ]
  },
  {
   "cell_type": "code",
   "execution_count": 150,
   "metadata": {},
   "outputs": [
    {
     "data": {
      "image/png": "[encoded data removed]",
      "text/plain": [
       "<Figure size 432x288 with 1 Axes>"
      ]
     },
     "metadata": {
      "needs_background": "light"
     },
     "output_type": "display_data"
    },
    {
     "data": {
      "text/plain": [
       "LinearRegression(copy_X=True, fit_intercept=True, n_jobs=None,\n",
       "         normalize=False)"
      ]
     },
     "execution_count": 150,
     "metadata": {},
     "output_type": "execute_result"
    }
   ],
   "source": [
    "from sklearn.tree import DecisionTreeRegressor\n",
    "from sklearn.linear_model import HuberRegressor\n",
    "from sklearn.svm import SVR\n",
    "from sklearn.linear_model import LinearRegression \n",
    "\n",
    "import matplotlib.pyplot as plt\n",
    "from sklearn.model_selection import train_test_split\n",
    "\n",
    "# temp_dict = {\"Year\": [] , \"Value\" : []}\n",
    "y = []\n",
    "years = []\n",
    "WLD\n",
    "for i in list(WLD.columns.values):\n",
    "    y.append(float(WLD[i]))\n",
    "    years.append(i)\n",
    "\n",
    "%matplotlib inline\n",
    "plt.plot(years,y)\n",
    "plt.show()\n",
    "y = pd.DataFrame(y) \n",
    "years = pd.DataFrame(years) \n",
    "\n",
    "\n",
    "\n",
    "\n",
    "Model = LinearRegression()\n",
    "Model.fit(years,y)\n"
   ]
  },
  {
   "cell_type": "code",
   "execution_count": 151,
   "metadata": {},
   "outputs": [],
   "source": [
    "predictions = Model.predict(pd.DataFrame(list(range(2017,2100))))"
   ]
  },
  {
   "cell_type": "code",
   "execution_count": 152,
   "metadata": {},
   "outputs": [
    {
     "data": {
      "text/plain": [
       "110"
      ]
     },
     "execution_count": 152,
     "metadata": {},
     "output_type": "execute_result"
    }
   ],
   "source": [
    "len(predictions) + len(y)"
   ]
  },
  {
   "cell_type": "code",
   "execution_count": 153,
   "metadata": {},
   "outputs": [
    {
     "name": "stdout",
     "output_type": "stream",
     "text": [
      "[[22.89927844]\n",
      " [23.12743753]\n",
      " [23.35559661]\n",
      " [23.58375569]\n",
      " [23.81191477]\n",
      " [24.04007386]\n",
      " [24.26823294]\n",
      " [24.49639202]\n",
      " [24.72455111]\n",
      " [24.95271019]\n",
      " [25.18086927]\n",
      " [25.40902835]\n",
      " [25.63718744]\n",
      " [25.86534652]\n",
      " [26.0935056 ]\n",
      " [26.32166469]\n",
      " [26.54982377]\n",
      " [26.77798285]\n",
      " [27.00614193]\n",
      " [27.23430102]\n",
      " [27.4624601 ]\n",
      " [27.69061918]\n",
      " [27.91877827]\n",
      " [28.14693735]\n",
      " [28.37509643]\n",
      " [28.60325551]\n",
      " [28.8314146 ]\n",
      " [29.05957368]\n",
      " [29.28773276]\n",
      " [29.51589185]\n",
      " [29.74405093]\n",
      " [29.97221001]\n",
      " [30.20036909]\n",
      " [30.42852818]\n",
      " [30.65668726]\n",
      " [30.88484634]\n",
      " [31.11300542]\n",
      " [31.34116451]\n",
      " [31.56932359]\n",
      " [31.79748267]\n",
      " [32.02564176]\n",
      " [32.25380084]\n",
      " [32.48195992]\n",
      " [32.710119  ]\n",
      " [32.93827809]\n",
      " [33.16643717]\n",
      " [33.39459625]\n",
      " [33.62275534]\n",
      " [33.85091442]\n",
      " [34.0790735 ]\n",
      " [34.30723258]\n",
      " [34.53539167]\n",
      " [34.76355075]\n",
      " [34.99170983]\n",
      " [35.21986892]\n",
      " [35.448028  ]\n",
      " [35.67618708]\n",
      " [35.90434616]\n",
      " [36.13250525]\n",
      " [36.36066433]\n",
      " [36.58882341]\n",
      " [36.8169825 ]\n",
      " [37.04514158]\n",
      " [37.27330066]\n",
      " [37.50145974]\n",
      " [37.72961883]\n",
      " [37.95777791]\n",
      " [38.18593699]\n",
      " [38.41409608]\n",
      " [38.64225516]\n",
      " [38.87041424]\n",
      " [39.09857332]\n",
      " [39.32673241]\n",
      " [39.55489149]\n",
      " [39.78305057]\n",
      " [40.01120966]\n",
      " [40.23936874]\n",
      " [40.46752782]\n",
      " [40.6956869 ]\n",
      " [40.92384599]\n",
      " [41.15200507]\n",
      " [41.38016415]\n",
      " [41.60832324]]\n"
     ]
    }
   ],
   "source": [
    "# print(years.append(pd.DataFrame(list(range(2017,2025)))))\n",
    "# print(y.append(pd.DataFrame(predictions)))\n",
    "print(predictions)"
   ]
  },
  {
   "cell_type": "code",
   "execution_count": 157,
   "metadata": {},
   "outputs": [
    {
     "name": "stdout",
     "output_type": "stream",
     "text": [
      "<class 'pandas.core.frame.DataFrame'>\n"
     ]
    },
    {
     "ename": "TypeError",
     "evalue": "'int' object is not subscriptable",
     "output_type": "error",
     "traceback": [
      "\u001b[0;31m---------------------------------------------------------------------------\u001b[0m",
      "\u001b[0;31mTypeError\u001b[0m                                 Traceback (most recent call last)",
      "\u001b[0;32m<ipython-input-157-5af1bfc26ff8>\u001b[0m in \u001b[0;36m<module>\u001b[0;34m\u001b[0m\n\u001b[1;32m      2\u001b[0m \u001b[0;31m# print(predictions)\u001b[0m\u001b[0;34m\u001b[0m\u001b[0;34m\u001b[0m\u001b[0m\n\u001b[1;32m      3\u001b[0m \u001b[0mprint\u001b[0m\u001b[0;34m(\u001b[0m\u001b[0mtype\u001b[0m\u001b[0;34m(\u001b[0m\u001b[0my\u001b[0m\u001b[0;34m)\u001b[0m\u001b[0;34m)\u001b[0m\u001b[0;34m\u001b[0m\u001b[0m\n\u001b[0;32m----> 4\u001b[0;31m \u001b[0my\u001b[0m \u001b[0;34m=\u001b[0m \u001b[0;34m[\u001b[0m\u001b[0mu\u001b[0m\u001b[0;34m[\u001b[0m\u001b[0;36m0\u001b[0m\u001b[0;34m]\u001b[0m \u001b[0;32mfor\u001b[0m \u001b[0mu\u001b[0m \u001b[0;32min\u001b[0m \u001b[0my\u001b[0m\u001b[0;34m]\u001b[0m\u001b[0;34m\u001b[0m\u001b[0m\n\u001b[0m\u001b[1;32m      5\u001b[0m \u001b[0mget_ipython\u001b[0m\u001b[0;34m(\u001b[0m\u001b[0;34m)\u001b[0m\u001b[0;34m.\u001b[0m\u001b[0mrun_line_magic\u001b[0m\u001b[0;34m(\u001b[0m\u001b[0;34m'matplotlib'\u001b[0m\u001b[0;34m,\u001b[0m \u001b[0;34m'inline'\u001b[0m\u001b[0;34m)\u001b[0m\u001b[0;34m\u001b[0m\u001b[0m\n\u001b[1;32m      6\u001b[0m \u001b[0mplt\u001b[0m\u001b[0;34m.\u001b[0m\u001b[0mplot\u001b[0m\u001b[0;34m(\u001b[0m\u001b[0myears\u001b[0m\u001b[0;34m.\u001b[0m\u001b[0mtolist\u001b[0m\u001b[0;34m(\u001b[0m\u001b[0;34m)\u001b[0m \u001b[0;34m+\u001b[0m \u001b[0mlist\u001b[0m\u001b[0;34m(\u001b[0m\u001b[0mrange\u001b[0m\u001b[0;34m(\u001b[0m\u001b[0;36m2017\u001b[0m\u001b[0;34m,\u001b[0m\u001b[0;36m2100\u001b[0m\u001b[0;34m)\u001b[0m\u001b[0;34m)\u001b[0m\u001b[0;34m,\u001b[0m\u001b[0my\u001b[0m\u001b[0;34m.\u001b[0m\u001b[0mtolist\u001b[0m\u001b[0;34m(\u001b[0m\u001b[0;34m)\u001b[0m \u001b[0;34m+\u001b[0m \u001b[0mpredictions\u001b[0m\u001b[0;34m)\u001b[0m\u001b[0;34m\u001b[0m\u001b[0m\n",
      "\u001b[0;32m<ipython-input-157-5af1bfc26ff8>\u001b[0m in \u001b[0;36m<listcomp>\u001b[0;34m(.0)\u001b[0m\n\u001b[1;32m      2\u001b[0m \u001b[0;31m# print(predictions)\u001b[0m\u001b[0;34m\u001b[0m\u001b[0;34m\u001b[0m\u001b[0m\n\u001b[1;32m      3\u001b[0m \u001b[0mprint\u001b[0m\u001b[0;34m(\u001b[0m\u001b[0mtype\u001b[0m\u001b[0;34m(\u001b[0m\u001b[0my\u001b[0m\u001b[0;34m)\u001b[0m\u001b[0;34m)\u001b[0m\u001b[0;34m\u001b[0m\u001b[0m\n\u001b[0;32m----> 4\u001b[0;31m \u001b[0my\u001b[0m \u001b[0;34m=\u001b[0m \u001b[0;34m[\u001b[0m\u001b[0mu\u001b[0m\u001b[0;34m[\u001b[0m\u001b[0;36m0\u001b[0m\u001b[0;34m]\u001b[0m \u001b[0;32mfor\u001b[0m \u001b[0mu\u001b[0m \u001b[0;32min\u001b[0m \u001b[0my\u001b[0m\u001b[0;34m]\u001b[0m\u001b[0;34m\u001b[0m\u001b[0m\n\u001b[0m\u001b[1;32m      5\u001b[0m \u001b[0mget_ipython\u001b[0m\u001b[0;34m(\u001b[0m\u001b[0;34m)\u001b[0m\u001b[0;34m.\u001b[0m\u001b[0mrun_line_magic\u001b[0m\u001b[0;34m(\u001b[0m\u001b[0;34m'matplotlib'\u001b[0m\u001b[0;34m,\u001b[0m \u001b[0;34m'inline'\u001b[0m\u001b[0;34m)\u001b[0m\u001b[0;34m\u001b[0m\u001b[0m\n\u001b[1;32m      6\u001b[0m \u001b[0mplt\u001b[0m\u001b[0;34m.\u001b[0m\u001b[0mplot\u001b[0m\u001b[0;34m(\u001b[0m\u001b[0myears\u001b[0m\u001b[0;34m.\u001b[0m\u001b[0mtolist\u001b[0m\u001b[0;34m(\u001b[0m\u001b[0;34m)\u001b[0m \u001b[0;34m+\u001b[0m \u001b[0mlist\u001b[0m\u001b[0;34m(\u001b[0m\u001b[0mrange\u001b[0m\u001b[0;34m(\u001b[0m\u001b[0;36m2017\u001b[0m\u001b[0;34m,\u001b[0m\u001b[0;36m2100\u001b[0m\u001b[0;34m)\u001b[0m\u001b[0;34m)\u001b[0m\u001b[0;34m,\u001b[0m\u001b[0my\u001b[0m\u001b[0;34m.\u001b[0m\u001b[0mtolist\u001b[0m\u001b[0;34m(\u001b[0m\u001b[0;34m)\u001b[0m \u001b[0;34m+\u001b[0m \u001b[0mpredictions\u001b[0m\u001b[0;34m)\u001b[0m\u001b[0;34m\u001b[0m\u001b[0m\n",
      "\u001b[0;31mTypeError\u001b[0m: 'int' object is not subscriptable"
     ]
    }
   ],
   "source": [
    "# predictions = [u[0] for u in predictions]\n",
    "# print(predictions)\n",
    "print(type(y))\n",
    "yx = [u[0] for u in y.values]\n",
    "yrs = [u[0] for u in years.values]\n",
    "%matplotlib inline\n",
    "plt.plot(yrs + list(range(2017,2100)),yx + predictions)\n",
    "plt.show()"
   ]
  },
  {
   "cell_type": "code",
   "execution_count": null,
   "metadata": {},
   "outputs": [],
   "source": []
  },
  {
   "cell_type": "code",
   "execution_count": null,
   "metadata": {},
   "outputs": [],
   "source": []
  },
  {
   "cell_type": "code",
   "execution_count": null,
   "metadata": {},
   "outputs": [],
   "source": []
  }
 ],
 "metadata": {
  "kernelspec": {
   "display_name": "Python 3",
   "language": "python",
   "name": "python3"
  },
  "language_info": {
   "codemirror_mode": {
    "name": "ipython",
    "version": 3
   },
   "file_extension": ".py",
   "mimetype": "text/x-python",
   "name": "python",
   "nbconvert_exporter": "python",
   "pygments_lexer": "ipython3",
   "version": "3.6.3"
  }
 },
 "nbformat": 4,
 "nbformat_minor": 2
}
